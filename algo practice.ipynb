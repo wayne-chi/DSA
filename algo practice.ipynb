{
 "cells": [
  {
   "cell_type": "code",
   "execution_count": 3,
   "id": "b1676faa-e5a1-4c93-8caf-828f88a21326",
   "metadata": {},
   "outputs": [
    {
     "name": "stdout",
     "output_type": "stream",
     "text": [
      "Iterative DFS: {'D', 'F', 'B', 'E', 'C', 'A'}\n",
      "Recursive DFS: {'D', 'F', 'B', 'E', 'C', 'A'}\n",
      "Iterative DFS from B: {'D', 'F', 'B', 'E', 'C', 'A'}\n",
      "Recursive DFS from B: {'D', 'F', 'B', 'E', 'C', 'A'}\n"
     ]
    }
   ],
   "source": [
    "def iterative_dfs(graph, start_node):\n",
    "    visited = set()\n",
    "    stack = [start_node]\n",
    "\n",
    "    while stack:\n",
    "        node = stack.pop()\n",
    "        if node not in visited:\n",
    "            visited.add(node)\n",
    "            # Add neighbors to the stack\n",
    "            for neighbor in graph[node]:\n",
    "                if neighbor not in visited:\n",
    "                    stack.append(neighbor)\n",
    "    return visited\n",
    "\n",
    "\n",
    "def recursive_dfs(graph, node, visited=None):\n",
    "    if visited is None:\n",
    "        visited = set()\n",
    "    visited.add(node)\n",
    "    \n",
    "    for neighbor in graph[node][::-1]:\n",
    "        if neighbor not in visited:\n",
    "            recursive_dfs(graph, neighbor, visited)\n",
    "    \n",
    "    return visited\n",
    "\n",
    "# Define a simple graph using an adjacency list\n",
    "graph = {\n",
    "    'A': ['B', 'C'],\n",
    "    'B': ['A', 'D', 'E'],\n",
    "    'C': ['A', 'F'],\n",
    "    'D': ['B'],\n",
    "    'E': ['B', 'F'],\n",
    "    'F': ['C', 'E']\n",
    "}\n",
    "\n",
    "# Test case 1: Iterative DFS\n",
    "iterative_result = iterative_dfs(graph, 'A')\n",
    "print(\"Iterative DFS:\", iterative_result)\n",
    "\n",
    "# Test case 2: Recursive DFS\n",
    "recursive_result = recursive_dfs(graph, 'A')\n",
    "print(\"Recursive DFS:\", recursive_result)\n",
    "\n",
    "# Test case 3: Both methods should produce the same result for the same graph and start node\n",
    "assert iterative_result == recursive_result, \"Iterative and Recursive DFS results should match\"\n",
    "\n",
    "# Test case 4: Start from a different node\n",
    "iterative_result_b = iterative_dfs(graph, 'B')\n",
    "recursive_result_b = recursive_dfs(graph, 'B')\n",
    "print(\"Iterative DFS from B:\", iterative_result_b)\n",
    "print(\"Recursive DFS from B:\", recursive_result_b)\n",
    "\n",
    "assert iterative_result_b == recursive_result_b, \"Iterative and Recursive DFS results should match\"\n"
   ]
  },
  {
   "cell_type": "code",
   "execution_count": null,
   "id": "c5b25201-3f53-4dd8-990a-b0f3fcfd3c2d",
   "metadata": {},
   "outputs": [],
   "source": []
  },
  {
   "cell_type": "code",
   "execution_count": 12,
   "id": "90dcef8f-9ca2-47ed-b5bd-9d0ddd71d592",
   "metadata": {},
   "outputs": [],
   "source": [
    "def insert(intervals, newInterval):\n",
    "    result = []\n",
    "    i = 0\n",
    "    n = len(intervals)\n",
    "    \n",
    "    # Case 1: Add all intervals that end before the newInterval starts\n",
    "    while i < n and intervals[i][1] < newInterval[0]:\n",
    "        result.append(intervals[i])\n",
    "        print(intervals[i][1])\n",
    "        i += 1\n",
    "    \n",
    "    # Case 3: Merge all intervals that overlap with the newInterval\n",
    "    while i < n and intervals[i][0] <= newInterval[1]:\n",
    "        newInterval[0] = min(newInterval[0], intervals[i][0])\n",
    "        newInterval[1] = max(newInterval[1], intervals[i][1])\n",
    "        i += 1\n",
    "    \n",
    "    # Add the merged interval\n",
    "    result.append(newInterval)\n",
    "    \n",
    "    # Case 2: Add the remaining intervals\n",
    "    while i < n:\n",
    "        result.append(intervals[i])\n",
    "        i += 1\n",
    "    \n",
    "    return result\n"
   ]
  },
  {
   "cell_type": "code",
   "execution_count": 10,
   "id": "d06c1471-a3ca-4f49-b3ea-7ede76cd9fc7",
   "metadata": {},
   "outputs": [
    {
     "name": "stdout",
     "output_type": "stream",
     "text": [
      "[[1, 5], [6, 9]]\n"
     ]
    }
   ],
   "source": [
    "intervals = [[1, 3], [6, 9]]\n",
    "newInterval = [2, 5]\n",
    "print(insert(intervals, newInterval))  # Output: [[1, 5], [6, 9]]\n"
   ]
  },
  {
   "cell_type": "code",
   "execution_count": 13,
   "id": "d8f2f0d4-d842-4901-a728-9d30f089731f",
   "metadata": {},
   "outputs": [
    {
     "name": "stdout",
     "output_type": "stream",
     "text": [
      "2\n",
      "[[1, 2], [3, 10], [12, 16]]\n"
     ]
    }
   ],
   "source": [
    "intervals = [[1,2],[3,5],[6,7],[8,10],[12,16]]\n",
    "newInterval = [4,8]\n",
    "print(insert(intervals, newInterval))"
   ]
  },
  {
   "cell_type": "code",
   "execution_count": 6,
   "id": "c5fbb807-baca-45a8-9f1c-72bbe0da46bd",
   "metadata": {},
   "outputs": [],
   "source": [
    "##  dfd\n",
    "def reverseInplace(arr, start, end):\n",
    "    if start > end:\n",
    "        start, end = end, start \n",
    "    for i in range(start,(start + end)//2):\n",
    "        arr[i],arr[end +start -i] = arr[end + start -i], arr [i]   \n",
    "    return arr"
   ]
  },
  {
   "cell_type": "code",
   "execution_count": 9,
   "id": "fe0a70ff-1d01-4d0c-991e-1da3a048b806",
   "metadata": {},
   "outputs": [],
   "source": [
    "##  dfd\n",
    "def reverseInplace(arr, start, end):\n",
    "    if start > end:\n",
    "        start, end = end, start \n",
    "    i = start\n",
    "    while i <= (start+end)/2:\n",
    "        arr[i],arr[end +start -i] = arr[end + start -i], arr [i]   \n",
    "        i += 1\n",
    "    return arr"
   ]
  },
  {
   "cell_type": "code",
   "execution_count": 11,
   "id": "6421efea-2100-4393-873a-22a2bd5df8aa",
   "metadata": {},
   "outputs": [
    {
     "data": {
      "text/plain": [
       "[0, 7, 6, 5, 4, 3, 2, 1, 8, 9]"
      ]
     },
     "execution_count": 11,
     "metadata": {},
     "output_type": "execute_result"
    }
   ],
   "source": [
    "myarr = [0,1,2,3,4,5,6,7,8,9]  \n",
    "reverseInplace( myarr, 7, 1)  "
   ]
  },
  {
   "cell_type": "code",
   "execution_count": null,
   "id": "96d0777e-e765-4ce9-94a3-c0cf3bb9fe4c",
   "metadata": {},
   "outputs": [],
   "source": []
  }
 ],
 "metadata": {
  "kernelspec": {
   "display_name": "Python 3 (ipykernel)",
   "language": "python",
   "name": "python3"
  },
  "language_info": {
   "codemirror_mode": {
    "name": "ipython",
    "version": 3
   },
   "file_extension": ".py",
   "mimetype": "text/x-python",
   "name": "python",
   "nbconvert_exporter": "python",
   "pygments_lexer": "ipython3",
   "version": "3.10.4"
  }
 },
 "nbformat": 4,
 "nbformat_minor": 5
}
