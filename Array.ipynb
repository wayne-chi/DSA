{
 "cells": [
  {
   "cell_type": "markdown",
   "metadata": {},
   "source": [
    "\n",
    "**Q1** \n",
    "\n",
    "You are given two numbers represented as arrays where each element in the array represents a single digit of the number (with the most significant digit at the beginning). Write a function to add these two numbers and return the result as an array.\n",
    "\n",
    "- The numbers can be of different lengths, so the shorter number must be padded with zeros in the front.\n",
    "- You should handle carrying over when digits sum up to 10 or more.\n",
    "- The result should be returned as an array, with the digits of the sum in the same format (most significant digit first).\n",
    "\n",
    "num1 = [1, 2, 3] (which represents the number 123)\n",
    "num2 = [9, 9] (which represents the number 99)\n",
    "\n",
    "Adding these two numbers:\n",
    "\n",
    "markdown\n",
    "Copy code\n",
    "  1 2 3\n",
    "+ 0 9 9\n",
    "// ---------\n",
    "  2 2 2\n",
    "The result would be [2, 2, 2]."
   ]
  },
  {
   "cell_type": "code",
   "execution_count": 14,
   "metadata": {},
   "outputs": [],
   "source": [
    "def add_array(a, b ):\n",
    "    \n",
    "    def pad(a,b):\n",
    "        diff = abs ( len(a) - len(b) )\n",
    "        if len(a) < len(b):\n",
    "            a = [0]* diff + a\n",
    "        elif len(b)  < len(a):\n",
    "            b = [0]*diff + b\n",
    "        return a, b \n",
    "    a,b = pad(a, b)\n",
    "    l = len(a)\n",
    "    ans =[0] * l\n",
    "    s= 0\n",
    "    for i in range(len(a), 0 ,-1):\n",
    "        s = a[i-1] + b[i-1] + s //10\n",
    "        ans[i-1] = s % 10 \n",
    "\n",
    "    return ans\n",
    "\n",
    "\n"
   ]
  },
  {
   "cell_type": "code",
   "execution_count": 15,
   "metadata": {},
   "outputs": [
    {
     "data": {
      "text/plain": [
       "[2, 2, 2]"
      ]
     },
     "execution_count": 15,
     "metadata": {},
     "output_type": "execute_result"
    }
   ],
   "source": [
    "a = [1, 2, 3]\n",
    "b = [9, 9]\n",
    "\n",
    "add_array(a,b)"
   ]
  },
  {
   "cell_type": "code",
   "execution_count": 2,
   "metadata": {},
   "outputs": [
    {
     "data": {
      "text/plain": [
       "[12, 12]"
      ]
     },
     "execution_count": 2,
     "metadata": {},
     "output_type": "execute_result"
    }
   ],
   "source": [
    "[12] + [12]"
   ]
  },
  {
   "cell_type": "code",
   "execution_count": 17,
   "metadata": {},
   "outputs": [
    {
     "name": "stdout",
     "output_type": "stream",
     "text": [
      "The created heap is : [1, 3, 9, 7, 5]\n",
      "The modified heap after push is : [1, 3, 4, 7, 5, 9]\n",
      "The popped and smallest element is : 1\n",
      "The modified heap after push is : [3, 5, 4, 7, 9]\n"
     ]
    }
   ],
   "source": [
    "# importing \"heapq\" to implement heap queue\n",
    "import heapq\n",
    " \n",
    "# initializing list\n",
    "li = [5, 7, 9, 1, 3]\n",
    " \n",
    "# using heapify to convert list into heap\n",
    "heapq.heapify(li)\n",
    " \n",
    "# printing created heap\n",
    "print(\"The created heap is : \", end=\"\")\n",
    "print(list(li))\n",
    " \n",
    "# using heappush() to push elements into heap\n",
    "# pushes 4\n",
    "heapq.heappush(li, 4)\n",
    " \n",
    "# printing modified heap\n",
    "print(\"The modified heap after push is : \", end=\"\")\n",
    "print(list(li))\n",
    " \n",
    "# using heappop() to pop smallest element\n",
    "print(\"The popped and smallest element is : \", end=\"\")\n",
    "print(heapq.heappop(li))\n",
    "print(\"The modified heap after push is : \", end=\"\")\n",
    "\n",
    "print(list(li))"
   ]
  },
  {
   "cell_type": "markdown",
   "metadata": {},
   "source": [
    "Describe an efficient algorithm for finding the ten largest elements in a\n",
    "sequence of size n. What is the running time of your algorithm?"
   ]
  },
  {
   "cell_type": "code",
   "execution_count": 18,
   "metadata": {},
   "outputs": [
    {
     "name": "stdout",
     "output_type": "stream",
     "text": [
      "The 10 largest elements are: [30, 25, 22, 20, 18, 15, 14, 12, 11, 10]\n"
     ]
    }
   ],
   "source": [
    "import heapq\n",
    "\n",
    "def find_ten_largest_elements(sequence):\n",
    "    # Initialize a min-heap\n",
    "    min_heap = []\n",
    "    # Iterate through each element in the sequence\n",
    "    for num in sequence:\n",
    "        # If the heap has fewer than 10 elements, add the current element\n",
    "        if len(min_heap) < 10:\n",
    "            heapq.heappush(min_heap, num)\n",
    "        else:\n",
    "            # If the current element is larger than the smallest (root of the heap),\n",
    "            # remove the smallest and add the current element\n",
    "            if num > min_heap[0]:\n",
    "                heapq.heapreplace(min_heap, num)\n",
    "    \n",
    "    # The heap now contains the 10 largest elements\n",
    "    # Optionally sort them in descending order (or return as is)\n",
    "    return sorted(min_heap, reverse=True)\n",
    "\n",
    "# Example usage\n",
    "sequence = [3, 1, 6, 2, 9, 10, 14, 7, 8, 22, 15, 30, 18, 4, 12, 11, 20, 25]\n",
    "largest_10 = find_ten_largest_elements(sequence)\n",
    "print(\"The 10 largest elements are:\", largest_10)\n"
   ]
  },
  {
   "cell_type": "code",
   "execution_count": 19,
   "metadata": {},
   "outputs": [
    {
     "name": "stdout",
     "output_type": "stream",
     "text": [
      "The 10 largest elements are: [30, 25, 22, 20, 18, 15, 14, 12, 11, 10]\n"
     ]
    }
   ],
   "source": [
    "def find_ten_largest_elements(sequence):\n",
    "    # Initialize a list with 10 very small values\n",
    "    largest_10 = [-float('inf')] * 10\n",
    "    # Iterate over each element in the sequence\n",
    "    for num in sequence:\n",
    "        # If the current number is greater than the smallest in the largest_10 list\n",
    "        if num > largest_10[0]:\n",
    "            # Replace the smallest element with the current number\n",
    "            largest_10[0] = num\n",
    "            # Sort the list so that the smallest element is always at the front\n",
    "            largest_10.sort()\n",
    "    # Optionally reverse the list to have the largest element first\n",
    "    return largest_10[::-1]\n",
    "\n",
    "# Example usage\n",
    "sequence = [3, 1, 6, 2, 9, 10, 14, 7, 8, 22, 15, 30, 18, 4, 12, 11, 20, 25]\n",
    "largest_10 = find_ten_largest_elements(sequence)\n",
    "print(\"The 10 largest elements are:\", largest_10)\n"
   ]
  },
  {
   "cell_type": "markdown",
   "metadata": {},
   "source": [
    "Array Basics:\n",
    "Problem: Create an array of integers of length 10. Write a function that takes this array as input and returns the sum of all elements.\n",
    "- Sample Input: [1, 2, 3, 4, 5, 6, 7, 8, 9, 10]\n",
    "- Sample Output: 55\n",
    "- Goal: Practice array creation, element access, and iteration.\n"
   ]
  },
  {
   "cell_type": "code",
   "execution_count": 21,
   "metadata": {},
   "outputs": [
    {
     "name": "stdout",
     "output_type": "stream",
     "text": [
      "55\n"
     ]
    }
   ],
   "source": [
    "def sm(ar):\n",
    "    tt = 0\n",
    "    for i in ar:\n",
    "        tt+=i\n",
    "    return tt\n",
    "myarr = [1,2,3,4,5,6,7,8,9,10]\n",
    "\n",
    "print(sm(myarr))"
   ]
  },
  {
   "cell_type": "markdown",
   "metadata": {},
   "source": [
    "Slice Manipulation:\n",
    "Problem: Given a slice of integers, write a function to remove all occurrences of a specific integer from the slice.\n",
    "- Sample Input: slice: [1, 2, 2, 3, 4, 2, 5], value to remove: 2\n",
    "- Sample Output: [1, 3, 4, 5]\n",
    "- Goal: Understand how to modify a slice by removing elements and working with slice internals.\n"
   ]
  },
  {
   "cell_type": "code",
   "execution_count": 22,
   "metadata": {},
   "outputs": [
    {
     "data": {
      "text/plain": [
       "[1, 3, 4, 5]"
      ]
     },
     "execution_count": 22,
     "metadata": {},
     "output_type": "execute_result"
    }
   ],
   "source": [
    "def del_occurence(arr,x):\n",
    "    #loop through and where they are equal remove\n",
    "    #while looping create a copy of the array\n",
    "    cp = []\n",
    "    for i in arr:\n",
    "        if i !=x:\n",
    "            cp.append(i)\n",
    "    return cp\n",
    "\n",
    "myarr = [1, 2, 2, 3, 4, 2, 5]\n",
    "x = 2\n",
    "output = del_occurence(myarr, 2)\n",
    "output"
   ]
  },
  {
   "cell_type": "markdown",
   "metadata": {},
   "source": [
    "Slice Resizing:\n",
    "Problem: Implement a function that takes an array of integers and returns a slice containing only the even numbers.\n",
    "- Sample Input: [1, 2, 3, 4, 5, 6]\n",
    "- Sample Output: [2, 4, 6]\n",
    "-  Goal: Learn how to filter data using slices and how to manage slice resizing."
   ]
  },
  {
   "cell_type": "code",
   "execution_count": null,
   "metadata": {},
   "outputs": [],
   "source": []
  }
 ],
 "metadata": {
  "kernelspec": {
   "display_name": "dsa",
   "language": "python",
   "name": "python3"
  },
  "language_info": {
   "codemirror_mode": {
    "name": "ipython",
    "version": 3
   },
   "file_extension": ".py",
   "mimetype": "text/x-python",
   "name": "python",
   "nbconvert_exporter": "python",
   "pygments_lexer": "ipython3",
   "version": "3.9.19"
  }
 },
 "nbformat": 4,
 "nbformat_minor": 2
}
