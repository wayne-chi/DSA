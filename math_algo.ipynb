{
 "cells": [
  {
   "cell_type": "markdown",
   "metadata": {},
   "source": [
    "## GCD\n",
    "```\n",
    "gcd(a, b):\n",
    "    if a = b:\n",
    "        return a\n",
    "    if a > b:\n",
    "        return gcd(a – b, b)\n",
    "    else:\n",
    "        return gcd(a, b – a)\n",
    "```\n",
    "or\n",
    "```\n",
    "gcd(a, b):\n",
    "    if b==0 :\n",
    "        return a\n",
    "    return gcd(b, a%b)\n",
    "\n",
    "```"
   ]
  },
  {
   "cell_type": "code",
   "execution_count": 8,
   "metadata": {},
   "outputs": [
    {
     "data": {
      "text/plain": [
       "7"
      ]
     },
     "execution_count": 8,
     "metadata": {},
     "output_type": "execute_result"
    }
   ],
   "source": [
    "def gcd(a, b):\n",
    "    if b == a:\n",
    "        return a\n",
    "    if a > b:\n",
    "        a = a-b\n",
    "    else:\n",
    "        b = b-a\n",
    "    return gcd(a,b)\n",
    "\n",
    "gcd(35,49)"
   ]
  },
  {
   "cell_type": "code",
   "execution_count": 6,
   "metadata": {},
   "outputs": [
    {
     "name": "stdout",
     "output_type": "stream",
     "text": [
      "25 45\n",
      "45 25\n",
      "25 20\n",
      "20 5\n",
      "5 0\n"
     ]
    },
    {
     "data": {
      "text/plain": [
       "5"
      ]
     },
     "execution_count": 6,
     "metadata": {},
     "output_type": "execute_result"
    }
   ],
   "source": [
    "def gcd2(a, b):\n",
    "\n",
    "    if b == 0:\n",
    "        return a\n",
    "    return gcd2(b, a%b)\n",
    "\n",
    "gcd2(25,45)"
   ]
  },
  {
   "cell_type": "markdown",
   "metadata": {},
   "source": [
    "## LCM\n",
    "$$lcm(a,b) = \\frac{a\\times b}{gcd(a,b)} $$"
   ]
  },
  {
   "cell_type": "code",
   "execution_count": 11,
   "metadata": {},
   "outputs": [
    {
     "data": {
      "text/plain": [
       "63.0"
      ]
     },
     "execution_count": 11,
     "metadata": {},
     "output_type": "execute_result"
    }
   ],
   "source": [
    "def lcm(a,b):\n",
    "    def gcd(a,b):\n",
    "        if b == 0:\n",
    "            return a\n",
    "        return gcd(b,a%b)\n",
    "    return (a*b)/gcd(a,b)\n",
    "\n",
    "lcm(21,9)\n"
   ]
  },
  {
   "cell_type": "markdown",
   "metadata": {},
   "source": [
    "## Prime Factorization \n",
    "- return the prime factors of n\n",
    "\n",
    "\n"
   ]
  },
  {
   "cell_type": "code",
   "execution_count": 22,
   "metadata": {},
   "outputs": [
    {
     "data": {
      "text/plain": [
       "[3, 3, 5]"
      ]
     },
     "execution_count": 22,
     "metadata": {},
     "output_type": "execute_result"
    }
   ],
   "source": [
    "import math\n",
    "def prime_factors(n):\n",
    "    factors = []\n",
    "    if n<=3:\n",
    "        return [n]\n",
    "    while n%2 == 0:\n",
    "        factors.append(2)\n",
    "        n = n//i\n",
    "    for i in range(3,int(math.sqrt(n)+1),2):\n",
    "        while n%i ==0:\n",
    "            factors.append(i)\n",
    "            n = n//i\n",
    "    if n > 2:\n",
    "        factors.append(n)\n",
    "    return factors\n",
    "\n",
    "prime_factors(45)"
   ]
  },
  {
   "cell_type": "markdown",
   "metadata": {},
   "source": [
    "## Fibonacci\n",
    "$0,1,1,2,3,5$\\\n",
    "$F(n) = F(n-2) + F(n-1)$"
   ]
  },
  {
   "cell_type": "code",
   "execution_count": 4,
   "metadata": {},
   "outputs": [
    {
     "data": {
      "text/plain": [
       "55"
      ]
     },
     "execution_count": 4,
     "metadata": {},
     "output_type": "execute_result"
    }
   ],
   "source": [
    "def fibonacci(n):\n",
    "    if n == 0:\n",
    "        return 0\n",
    "    if n==1:\n",
    "        return 1\n",
    "    return fibonacci(n-1) + fibonacci(n-2)\n",
    "\n",
    "fibonacci(10)\n"
   ]
  },
  {
   "cell_type": "code",
   "execution_count": 2,
   "metadata": {},
   "outputs": [
    {
     "data": {
      "text/plain": [
       "21"
      ]
     },
     "execution_count": 2,
     "metadata": {},
     "output_type": "execute_result"
    }
   ],
   "source": [
    "fn={}\n",
    "def fibonacci_2(n):\n",
    "    if n == 0:\n",
    "        return 0\n",
    "    if n==1:\n",
    "        return 1\n",
    "    if not fn.get(n):\n",
    "        fn[n] = fibonacci_2(n-1) + fibonacci_2(n-2)\n",
    "    return fn[n]\n",
    "\n",
    "fibonacci_2(8)"
   ]
  },
  {
   "cell_type": "code",
   "execution_count": 3,
   "metadata": {},
   "outputs": [
    {
     "name": "stdout",
     "output_type": "stream",
     "text": [
      "2.4660999999994714e-05\n"
     ]
    }
   ],
   "source": [
    "import timeit\n",
    "\n",
    "n = 1000\n",
    "loop = 100\n",
    "\n",
    "result = timeit.timeit('fibonacci_2(n)', globals=globals(), number=loop)\n",
    "print('time using memory optimization', result / loop)"
   ]
  },
  {
   "cell_type": "code",
   "execution_count": 7,
   "metadata": {},
   "outputs": [
    {
     "name": "stdout",
     "output_type": "stream",
     "text": [
      "time using regular  0.007340500000054817\n"
     ]
    }
   ],
   "source": [
    "result = timeit.timeit('fibonacci(20)', globals=globals(), number=1)\n",
    "print('time using regular ',result / 1)"
   ]
  },
  {
   "cell_type": "markdown",
   "metadata": {},
   "source": [
    "$$\n",
    "\\begin{bmatrix}\n",
    "1&1 \\\\\n",
    "1&0\n",
    "\\end{bmatrix}^n = \n",
    "\\begin{bmatrix}\n",
    "F_{n+1}& F_n \\\\\n",
    "F_n&F_{n-1}\n",
    "\\end{bmatrix}\n",
    "\n",
    "$$"
   ]
  },
  {
   "cell_type": "code",
   "execution_count": 25,
   "metadata": {},
   "outputs": [
    {
     "name": "stdout",
     "output_type": "stream",
     "text": [
      "The 5th Fibonacci number is: 5\n"
     ]
    }
   ],
   "source": [
    "import numpy as np\n",
    "import math\n",
    "# Matrix multiplication function\n",
    "def matrix_multiply(A, B):\n",
    "    return A @ B\n",
    "\n",
    "# Matrix power function using exponentiation by squaring\n",
    "def matrix_power(M, n):\n",
    "    result =  np.identity(len(M), dtype=int)  # Identity matrix of the same dimension\n",
    "    base = M\n",
    "    while n > 0:\n",
    "        if n % 2 == 1:  # If n is odd\n",
    "            result = matrix_multiply(result, base)\n",
    "            n-=1\n",
    "        if n % 2 ==0:\n",
    "            base = matrix_multiply(base, base)\n",
    "            n //= 2\n",
    "        \n",
    "    return result\n",
    "\n",
    "# Function to find the nth Fibonacci number using matrix exponentiation\n",
    "def fibonacci_matrix(n):\n",
    "    if n == 0:\n",
    "        return 0\n",
    "    if n == 1:\n",
    "        return 1\n",
    "    \n",
    "    # Initial transformation matrix for Fibonacci numbers\n",
    "    M = np.array([[1, 1], [1, 0]], dtype=int)\n",
    "    \n",
    "    # Compute the power of matrix M to the (n-1)th power\n",
    "    result_matrix = matrix_power(M, n-1)\n",
    "    \n",
    "    # The (0, 0) element of the matrix gives the nth Fibonacci number\n",
    "    return result_matrix[0][0]\n",
    "\n",
    "# Example usage4\n",
    "print(f\"The {n}th Fibonacci number is: {fibonacci_matrix(n)}\")\n",
    "## O(logn)"
   ]
  },
  {
   "cell_type": "markdown",
   "metadata": {},
   "source": [
    "## Catalan Number\n",
    "Count the number of valid expressions with a given number of pairs of parentheses.\n",
    "Catalan numbers are defined as a mathematical sequence that consists of positive integers, which can be used to find the number of possibilities of various combinations. \n",
    "\n",
    "The nth term in the sequence denoted Cn, is found in the following formula: \n",
    "$$C_n == \\frac{(2n)!}{n! (n+1)!} \\\n",
    "$$\n",
    "$$\n",
    "\n",
    "C_0 = C_1 = 1  $$\n",
    "$$ C_n = \\sum_{i=0}^{n-1}C_iC_{n-i-1} \\ \\ \\ \\ \\  \\text{    for    } n>=2\n",
    "$$"
   ]
  },
  {
   "cell_type": "code",
   "execution_count": 36,
   "metadata": {},
   "outputs": [
    {
     "data": {
      "text/plain": [
       "42"
      ]
     },
     "execution_count": 36,
     "metadata": {},
     "output_type": "execute_result"
    }
   ],
   "source": [
    "def catalan(n):\n",
    "    if n <= 1:\n",
    "        return 1\n",
    "    total =0\n",
    "    for i in range(n):\n",
    "        total += catalan(i)*catalan(n-i-1)\n",
    "    return total\n",
    "catalan(5)"
   ]
  },
  {
   "cell_type": "code",
   "execution_count": 43,
   "metadata": {},
   "outputs": [],
   "source": [
    "from collections import defaultdict"
   ]
  },
  {
   "cell_type": "code",
   "execution_count": 52,
   "metadata": {},
   "outputs": [
    {
     "data": {
      "text/plain": [
       "4861946401452"
      ]
     },
     "execution_count": 52,
     "metadata": {},
     "output_type": "execute_result"
    }
   ],
   "source": [
    "ct = defaultdict(int)\n",
    "ct[0] = 1\n",
    "ct[1] = 1\n",
    "def catalan_2(n):\n",
    "    if ct[n] == 0:\n",
    "        total = 0\n",
    "        for i in range(n):\n",
    "            total += catalan_2(i)*catalan_2(n-i-1)\n",
    "        ct[n] = total\n",
    "    return ct[n]\n",
    "\n",
    "catalan_2(25)"
   ]
  },
  {
   "cell_type": "code",
   "execution_count": 55,
   "metadata": {},
   "outputs": [
    {
     "data": {
      "text/plain": [
       "9694845.0"
      ]
     },
     "execution_count": 55,
     "metadata": {},
     "output_type": "execute_result"
    }
   ],
   "source": [
    "def catalan_3(n):\n",
    "    fac_2n = 1\n",
    "    fac_n = 1\n",
    "    for i in range(2*n,0,-1):\n",
    "        fac_2n *= i\n",
    "        if i <=n:\n",
    "            fac_n *= i\n",
    "    return fac_2n/(fac_n *fac_n *(n+1))\n",
    "\n",
    "catalan_3(15)"
   ]
  },
  {
   "cell_type": "code",
   "execution_count": null,
   "metadata": {},
   "outputs": [],
   "source": []
  }
 ],
 "metadata": {
  "kernelspec": {
   "display_name": "dsa",
   "language": "python",
   "name": "python3"
  },
  "language_info": {
   "codemirror_mode": {
    "name": "ipython",
    "version": 3
   },
   "file_extension": ".py",
   "mimetype": "text/x-python",
   "name": "python",
   "nbconvert_exporter": "python",
   "pygments_lexer": "ipython3",
   "version": "3.9.19"
  }
 },
 "nbformat": 4,
 "nbformat_minor": 2
}
